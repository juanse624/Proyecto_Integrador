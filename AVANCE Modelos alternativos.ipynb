{
  "cells": [
    {
      "cell_type": "markdown",
      "metadata": {},
      "source": [
        "# Importamos librerias ... "
      ]
    },
    {
      "cell_type": "code",
      "execution_count": 43,
      "metadata": {
        "id": "SCTZifFQlGss"
      },
      "outputs": [],
      "source": [
        "import pandas as pd\n",
        "import datetime\n",
        "from datetime import datetime\n",
        "import numpy as np\n",
        "import matplotlib.pyplot as plt\n",
        "import seaborn as sns\n",
        "from scipy.stats import skew\n",
        "from sklearn.impute import SimpleImputer\n",
        "from sklearn.preprocessing import StandardScaler, OneHotEncoder,LabelEncoder\n",
        "from sklearn.feature_selection import VarianceThreshold\n",
        "from sklearn.decomposition import PCA\n",
        "from sklearn.feature_selection import SelectKBest, chi2, f_classif\n",
        "from sklearn.compose import ColumnTransformer\n",
        "from sklearn.pipeline import Pipeline\n",
        "from sklearn.decomposition import PCA, FactorAnalysis\n",
        "from sklearn.model_selection import train_test_split\n",
        "from sklearn.ensemble import RandomForestClassifier\n",
        "from sklearn.metrics import accuracy_score\n",
        "from skimage.feature import hog\n",
        "from sklearn.metrics import classification_report, confusion_matrix\n",
        "from sklearn.model_selection import train_test_split, GridSearchCV\n",
        "from sklearn.svm import SVC\n",
        "from sklearn.model_selection import learning_curve\n",
        "from sklearn.svm import SVC\n",
        "from sklearn.datasets import load_digits\n",
        "from sklearn.calibration import calibration_curve\n",
        "from sklearn.ensemble import RandomForestClassifier\n",
        "from sklearn.metrics import roc_curve, auc\n",
        "from sklearn.tree import DecisionTreeClassifier\n",
        "from sklearn.ensemble import RandomForestClassifier\n",
        "from sklearn.svm import SVC\n",
        "from sklearn.linear_model import LogisticRegression\n",
        "from sklearn.neighbors import KNeighborsClassifier\n",
        "from sklearn.naive_bayes import GaussianNB\n",
        "from sklearn.neural_network import MLPClassifier\n",
        "from sklearn.model_selection import train_test_split\n",
        "from sklearn.metrics import accuracy_score, precision_score, recall_score, f1_score, confusion_matrix\n",
        "import numpy as np\n",
        "import time\n",
        "from sklearn.ensemble import RandomForestClassifier\n",
        "import pickle"
      ]
    },
    {
      "cell_type": "markdown",
      "metadata": {},
      "source": [
        "# Introduccion"
      ]
    },
    {
      "cell_type": "markdown",
      "metadata": {},
      "source": [
        "En el siguiente notebook vamos a realizar 4 experimentos que nos van a proporcionar un criterio y un argumento solido para la elección de nuestro modelo, en lo cual enfatizaremos en variantes de nuestro conjunto de datos, los cuales consisten en:\n",
        "\n",
        "- input original.\n",
        "- input original con PCA \n",
        "- input original con balanceo de clases\n",
        "- input original con PCA + balanceo de clases\n",
        "\n",
        "Para cada uno vamos a aplicar las respectivas validaciones de \n",
        "\n",
        "- Matriz de confusión\n",
        "- Reporte de clasificación\n",
        "- Curva de aprendizaje\n",
        "- Curva de validacion\n",
        "- Curva de calibración\n",
        "- Curva ROC\n",
        "- Feature importance\n",
        "\n",
        "Donde agregaremos nuestro argumento respecto los resultados y como estos pueden impactar tanto positiva como negativamente en nuestro proyecto."
      ]
    },
    {
      "cell_type": "markdown",
      "metadata": {},
      "source": [
        "# Importamos librerias"
      ]
    },
    {
      "cell_type": "code",
      "execution_count": 2,
      "metadata": {},
      "outputs": [
        {
          "data": {
            "text/html": [
              "<div>\n",
              "<style scoped>\n",
              "    .dataframe tbody tr th:only-of-type {\n",
              "        vertical-align: middle;\n",
              "    }\n",
              "\n",
              "    .dataframe tbody tr th {\n",
              "        vertical-align: top;\n",
              "    }\n",
              "\n",
              "    .dataframe thead th {\n",
              "        text-align: right;\n",
              "    }\n",
              "</style>\n",
              "<table border=\"1\" class=\"dataframe\">\n",
              "  <thead>\n",
              "    <tr style=\"text-align: right;\">\n",
              "      <th></th>\n",
              "      <th>GENERO</th>\n",
              "      <th>SEGMENTO_CLIENTE</th>\n",
              "      <th>RECUPERACION</th>\n",
              "      <th>NEGOCIACION_ACTIVA</th>\n",
              "      <th>MARCA_TIPO_CARTERA</th>\n",
              "      <th>PRIORIDAD</th>\n",
              "      <th>EDAD</th>\n",
              "      <th>RIESGO_ACTUAL</th>\n",
              "      <th>MORA_INICIAL</th>\n",
              "      <th>MORA_ACTUAL</th>\n",
              "      <th>...</th>\n",
              "      <th>CANTIDAD_GESTIONES</th>\n",
              "      <th>GESTION_LLAMADAS</th>\n",
              "      <th>CONTEO_CONTACTOS_DIRECTOS</th>\n",
              "      <th>DESC_ACTIVIDAD_codificado</th>\n",
              "      <th>ACCION_MEJOR_CONTACTO</th>\n",
              "      <th>EFECTO_MEJOR_CONTACTO</th>\n",
              "      <th>ESTADO_ICS_ACTUAL</th>\n",
              "      <th>MOTIVO_NO_PAGO_codificado</th>\n",
              "      <th>SUB_PRODUCTO_codificado</th>\n",
              "      <th>RANGO_HORA</th>\n",
              "    </tr>\n",
              "  </thead>\n",
              "  <tbody>\n",
              "    <tr>\n",
              "      <th>0</th>\n",
              "      <td>1</td>\n",
              "      <td>0</td>\n",
              "      <td>2</td>\n",
              "      <td>0</td>\n",
              "      <td>1</td>\n",
              "      <td>5</td>\n",
              "      <td>23</td>\n",
              "      <td>0</td>\n",
              "      <td>30</td>\n",
              "      <td>0</td>\n",
              "      <td>...</td>\n",
              "      <td>9</td>\n",
              "      <td>1</td>\n",
              "      <td>1</td>\n",
              "      <td>3</td>\n",
              "      <td>3</td>\n",
              "      <td>26</td>\n",
              "      <td>6</td>\n",
              "      <td>2</td>\n",
              "      <td>3</td>\n",
              "      <td>1</td>\n",
              "    </tr>\n",
              "    <tr>\n",
              "      <th>1</th>\n",
              "      <td>1</td>\n",
              "      <td>0</td>\n",
              "      <td>2</td>\n",
              "      <td>0</td>\n",
              "      <td>1</td>\n",
              "      <td>5</td>\n",
              "      <td>23</td>\n",
              "      <td>0</td>\n",
              "      <td>30</td>\n",
              "      <td>0</td>\n",
              "      <td>...</td>\n",
              "      <td>9</td>\n",
              "      <td>1</td>\n",
              "      <td>1</td>\n",
              "      <td>3</td>\n",
              "      <td>3</td>\n",
              "      <td>26</td>\n",
              "      <td>6</td>\n",
              "      <td>2</td>\n",
              "      <td>3</td>\n",
              "      <td>0</td>\n",
              "    </tr>\n",
              "    <tr>\n",
              "      <th>2</th>\n",
              "      <td>1</td>\n",
              "      <td>0</td>\n",
              "      <td>2</td>\n",
              "      <td>0</td>\n",
              "      <td>1</td>\n",
              "      <td>21</td>\n",
              "      <td>23</td>\n",
              "      <td>0</td>\n",
              "      <td>30</td>\n",
              "      <td>0</td>\n",
              "      <td>...</td>\n",
              "      <td>9</td>\n",
              "      <td>1</td>\n",
              "      <td>1</td>\n",
              "      <td>3</td>\n",
              "      <td>3</td>\n",
              "      <td>26</td>\n",
              "      <td>6</td>\n",
              "      <td>6</td>\n",
              "      <td>3</td>\n",
              "      <td>0</td>\n",
              "    </tr>\n",
              "    <tr>\n",
              "      <th>3</th>\n",
              "      <td>1</td>\n",
              "      <td>0</td>\n",
              "      <td>2</td>\n",
              "      <td>0</td>\n",
              "      <td>1</td>\n",
              "      <td>5</td>\n",
              "      <td>23</td>\n",
              "      <td>0</td>\n",
              "      <td>30</td>\n",
              "      <td>0</td>\n",
              "      <td>...</td>\n",
              "      <td>9</td>\n",
              "      <td>1</td>\n",
              "      <td>1</td>\n",
              "      <td>3</td>\n",
              "      <td>3</td>\n",
              "      <td>26</td>\n",
              "      <td>6</td>\n",
              "      <td>2</td>\n",
              "      <td>3</td>\n",
              "      <td>0</td>\n",
              "    </tr>\n",
              "    <tr>\n",
              "      <th>4</th>\n",
              "      <td>1</td>\n",
              "      <td>0</td>\n",
              "      <td>2</td>\n",
              "      <td>0</td>\n",
              "      <td>1</td>\n",
              "      <td>5</td>\n",
              "      <td>23</td>\n",
              "      <td>0</td>\n",
              "      <td>30</td>\n",
              "      <td>0</td>\n",
              "      <td>...</td>\n",
              "      <td>9</td>\n",
              "      <td>1</td>\n",
              "      <td>1</td>\n",
              "      <td>3</td>\n",
              "      <td>3</td>\n",
              "      <td>26</td>\n",
              "      <td>6</td>\n",
              "      <td>6</td>\n",
              "      <td>3</td>\n",
              "      <td>1</td>\n",
              "    </tr>\n",
              "  </tbody>\n",
              "</table>\n",
              "<p>5 rows × 30 columns</p>\n",
              "</div>"
            ],
            "text/plain": [
              "   GENERO  SEGMENTO_CLIENTE  RECUPERACION  NEGOCIACION_ACTIVA  \\\n",
              "0       1                 0             2                   0   \n",
              "1       1                 0             2                   0   \n",
              "2       1                 0             2                   0   \n",
              "3       1                 0             2                   0   \n",
              "4       1                 0             2                   0   \n",
              "\n",
              "   MARCA_TIPO_CARTERA  PRIORIDAD  EDAD  RIESGO_ACTUAL  MORA_INICIAL  \\\n",
              "0                   1          5    23              0            30   \n",
              "1                   1          5    23              0            30   \n",
              "2                   1         21    23              0            30   \n",
              "3                   1          5    23              0            30   \n",
              "4                   1          5    23              0            30   \n",
              "\n",
              "   MORA_ACTUAL  ...  CANTIDAD_GESTIONES  GESTION_LLAMADAS  \\\n",
              "0            0  ...                   9                 1   \n",
              "1            0  ...                   9                 1   \n",
              "2            0  ...                   9                 1   \n",
              "3            0  ...                   9                 1   \n",
              "4            0  ...                   9                 1   \n",
              "\n",
              "   CONTEO_CONTACTOS_DIRECTOS  DESC_ACTIVIDAD_codificado  \\\n",
              "0                          1                          3   \n",
              "1                          1                          3   \n",
              "2                          1                          3   \n",
              "3                          1                          3   \n",
              "4                          1                          3   \n",
              "\n",
              "   ACCION_MEJOR_CONTACTO  EFECTO_MEJOR_CONTACTO  ESTADO_ICS_ACTUAL  \\\n",
              "0                      3                     26                  6   \n",
              "1                      3                     26                  6   \n",
              "2                      3                     26                  6   \n",
              "3                      3                     26                  6   \n",
              "4                      3                     26                  6   \n",
              "\n",
              "   MOTIVO_NO_PAGO_codificado  SUB_PRODUCTO_codificado  RANGO_HORA  \n",
              "0                          2                        3           1  \n",
              "1                          2                        3           0  \n",
              "2                          6                        3           0  \n",
              "3                          2                        3           0  \n",
              "4                          6                        3           1  \n",
              "\n",
              "[5 rows x 30 columns]"
            ]
          },
          "execution_count": 2,
          "metadata": {},
          "output_type": "execute_result"
        }
      ],
      "source": [
        "df = pd.read_csv(\"input_transformada.csv\", sep=';', encoding =\"latin-1\")\n",
        "df.head(5)"
      ]
    },
    {
      "cell_type": "markdown",
      "metadata": {},
      "source": [
        "## Aplicamos sampling"
      ]
    },
    {
      "cell_type": "code",
      "execution_count": 3,
      "metadata": {},
      "outputs": [
        {
          "data": {
            "text/plain": [
              "RANGO_HORA\n",
              "0    216920\n",
              "1    216920\n",
              "Name: count, dtype: int64"
            ]
          },
          "execution_count": 3,
          "metadata": {},
          "output_type": "execute_result"
        }
      ],
      "source": [
        "# Crear un nuevo dataframe para cada clase\n",
        "df_morning = df[df['RANGO_HORA'] == 0]\n",
        "df_tarde = df[df['RANGO_HORA'] == 1]\n",
        "\n",
        "min_samples = min(len(df_morning), len(df_tarde))\n",
        "\n",
        "# Aplicar el subsampling a cada clase\n",
        "df_morning_subsampled = df_morning.sample(n=min_samples, random_state=42)\n",
        "df_tarde_subsampled = df_tarde.sample(n=min_samples, random_state=42)\n",
        "\n",
        "# Concatenar los dataframes de las clases subsampleadas\n",
        "df_subsampled = pd.concat([df_morning_subsampled, df_tarde_subsampled])\n",
        "df_subsampled['RANGO_HORA'].value_counts()"
      ]
    },
    {
      "cell_type": "markdown",
      "metadata": {},
      "source": [
        "## Dividimos para nuestro conjunto de entrenamiento y pruebas"
      ]
    },
    {
      "cell_type": "code",
      "execution_count": 4,
      "metadata": {},
      "outputs": [],
      "source": [
        "X = df_subsampled.drop(columns=['RANGO_HORA'])\n",
        "y = df_subsampled['RANGO_HORA']"
      ]
    },
    {
      "cell_type": "code",
      "execution_count": 5,
      "metadata": {},
      "outputs": [],
      "source": [
        "X_train, X_test, y_train, y_test = train_test_split(X, y, test_size=0.2, random_state=42)"
      ]
    },
    {
      "cell_type": "markdown",
      "metadata": {},
      "source": [
        "## Inicializamos modelos a entrenar"
      ]
    },
    {
      "cell_type": "code",
      "execution_count": 6,
      "metadata": {},
      "outputs": [],
      "source": [
        "models = {\n",
        "    \"Decision Tree\": DecisionTreeClassifier(),\n",
        "    \"Random Forest\": RandomForestClassifier(),\n",
        "    \"SVM\": SVC(),\n",
        "    \"Logistic Regression\": LogisticRegression(),\n",
        "    \"KNN\": KNeighborsClassifier(),\n",
        "    \"Naive Bayes\": GaussianNB(),\n",
        "    \"Neural Network\": MLPClassifier()\n",
        "}"
      ]
    },
    {
      "cell_type": "markdown",
      "metadata": {},
      "source": [
        "# Entrenamos y evaluamos cada modelo"
      ]
    },
    {
      "cell_type": "code",
      "execution_count": 7,
      "metadata": {},
      "outputs": [
        {
          "name": "stderr",
          "output_type": "stream",
          "text": [
            "C:\\Users\\Usuario\\AppData\\Local\\Packages\\PythonSoftwareFoundation.Python.3.8_qbz5n2kfra8p0\\LocalCache\\local-packages\\Python38\\site-packages\\sklearn\\linear_model\\_logistic.py:460: ConvergenceWarning: lbfgs failed to converge (status=1):\n",
            "STOP: TOTAL NO. of ITERATIONS REACHED LIMIT.\n",
            "\n",
            "Increase the number of iterations (max_iter) or scale the data as shown in:\n",
            "    https://scikit-learn.org/stable/modules/preprocessing.html\n",
            "Please also refer to the documentation for alternative solver options:\n",
            "    https://scikit-learn.org/stable/modules/linear_model.html#logistic-regression\n",
            "  n_iter_i = _check_optimize_result(\n"
          ]
        }
      ],
      "source": [
        "results = {}\n",
        "for name, model in models.items():\n",
        "    start_time = time.time()  # Tomar el tiempo de inicio\n",
        "    model.fit(X_train, y_train)\n",
        "    end_time = time.time()  # Tomar el tiempo de finalización\n",
        "    train_time = end_time - start_time  # Calcular el tiempo de entrenamiento\n",
        "    y_pred = model.predict(X_test)\n",
        "    accuracy = accuracy_score(y_test, y_pred)\n",
        "    precision = precision_score(y_test, y_pred)\n",
        "    recall = recall_score(y_test, y_pred)\n",
        "    f1 = f1_score(y_test, y_pred)\n",
        "    cm = confusion_matrix(y_test, y_pred)\n",
        "    results[name] = {\"Accuracy\": accuracy, \"Precision\": precision, \"Recall\": recall, \"F1-score\": f1, \"Confusion Matrix\": cm, \"Training Time (s)\": train_time}"
      ]
    },
    {
      "cell_type": "markdown",
      "metadata": {},
      "source": [
        "# Resultados individuales por cada modelo"
      ]
    },
    {
      "cell_type": "code",
      "execution_count": 8,
      "metadata": {},
      "outputs": [
        {
          "name": "stdout",
          "output_type": "stream",
          "text": [
            "Rendimiento de los modelos:\n",
            "Modelo: Decision Tree\n",
            "Accuracy: 0.6036211506546192\n",
            "Precision: 0.6118190305568872\n",
            "Recall: 0.5605465137784353\n",
            "F1-score: 0.5850615898753724\n",
            "Confusion Matrix:\n",
            "[[28128 15384]\n",
            " [19009 24247]]\n",
            "\n",
            "Modelo: Random Forest\n",
            "Accuracy: 0.6059952978056427\n",
            "Precision: 0.6031294775864814\n",
            "Recall: 0.6130710190493804\n",
            "F1-score: 0.6080596159357982\n",
            "Confusion Matrix:\n",
            "[[26062 17450]\n",
            " [16737 26519]]\n",
            "\n",
            "Modelo: SVM\n",
            "Accuracy: 0.5074566660520007\n",
            "Precision: 0.5062867940984083\n",
            "Recall: 0.4831237285000925\n",
            "F1-score: 0.4944341263175328\n",
            "Confusion Matrix:\n",
            "[[23133 20379]\n",
            " [22358 20898]]\n",
            "\n",
            "Modelo: Logistic Regression\n",
            "Accuracy: 0.5132998340401992\n",
            "Precision: 0.511956927093045\n",
            "Recall: 0.5077908267061217\n",
            "F1-score: 0.5098653667595172\n",
            "Confusion Matrix:\n",
            "[[22573 20939]\n",
            " [21291 21965]]\n",
            "\n",
            "Modelo: KNN\n",
            "Accuracy: 0.5745436105476673\n",
            "Precision: 0.5726697537939571\n",
            "Recall: 0.5775152579988904\n",
            "F1-score: 0.5750822993162825\n",
            "Confusion Matrix:\n",
            "[[24871 18641]\n",
            " [18275 24981]]\n",
            "\n",
            "Modelo: Naive Bayes\n",
            "Accuracy: 0.5147058823529411\n",
            "Precision: 0.5188159706287288\n",
            "Recall: 0.3658914370260773\n",
            "F1-score: 0.4291369539871478\n",
            "Confusion Matrix:\n",
            "[[28833 14679]\n",
            " [27429 15827]]\n",
            "\n",
            "Modelo: Neural Network\n",
            "Accuracy: 0.5010487737414715\n",
            "Precision: 0.49978074074074075\n",
            "Recall: 0.9748705381912336\n",
            "F1-score: 0.6607955747428133\n",
            "Confusion Matrix:\n",
            "[[ 1306 42206]\n",
            " [ 1087 42169]]\n",
            "\n"
          ]
        }
      ],
      "source": [
        "print(\"Rendimiento de los modelos:\")\n",
        "for name, metrics in results.items():\n",
        "    print(f\"Modelo: {name}\")\n",
        "    print(f\"Accuracy: {metrics['Accuracy']}\")\n",
        "    print(f\"Precision: {metrics['Precision']}\")\n",
        "    print(f\"Recall: {metrics['Recall']}\")\n",
        "    print(f\"F1-score: {metrics['F1-score']}\")\n",
        "    print(f\"Confusion Matrix:\\n{metrics['Confusion Matrix']}\\n\")"
      ]
    },
    {
      "cell_type": "code",
      "execution_count": 32,
      "metadata": {},
      "outputs": [
        {
          "data": {
            "image/png": "[encoded data removed]",
            "text/plain": [
              "<Figure size 1000x600 with 2 Axes>"
            ]
          },
          "metadata": {},
          "output_type": "display_data"
        }
      ],
      "source": [
        "# Definir los colores para cada métrica\n",
        "colors = ['tab:blue', 'tab:orange', 'tab:green', 'tab:red']\n",
        "\n",
        "# Convertir los resultados a DataFrame\n",
        "results_df = pd.DataFrame(results).T\n",
        "\n",
        "# Mostrar los resultados de rendimiento de cada modelo en forma de gráfico de barras\n",
        "fig, ax1 = plt.subplots(figsize=(10, 6))\n",
        "\n",
        "ax1.set_title('Rendimiento y Tiempo de Entrenamiento de los Modelos')\n",
        "ax1.set_xlabel('Modelo')\n",
        "ax1.set_ylabel('Score')\n",
        "\n",
        "# Trazar las barras para cada métrica con un color diferente\n",
        "for i, metric in enumerate(['Accuracy', 'Precision', 'Recall', 'F1-score']):\n",
        "    results_df[metric].plot(kind='bar', ax=ax1, color=colors[i], position=i, width=0.2, label=metric)\n",
        "\n",
        "# Configurar la leyenda\n",
        "ax1.legend()\n",
        "\n",
        "# Configurar el segundo eje y (para el tiempo de entrenamiento)\n",
        "ax2 = ax1.twinx()\n",
        "ax2.set_ylabel('Tiempo de Entrenamiento (s)', color='tab:purple')\n",
        "results_df['Training Time (s)'].plot(kind='line', ax=ax2, color='tab:purple', marker='o')\n",
        "\n",
        "fig.tight_layout()\n",
        "plt.show()"
      ]
    },
    {
      "cell_type": "code",
      "execution_count": 20,
      "metadata": {},
      "outputs": [
        {
          "data": {
            "text/html": [
              "<div>\n",
              "<style scoped>\n",
              "    .dataframe tbody tr th:only-of-type {\n",
              "        vertical-align: middle;\n",
              "    }\n",
              "\n",
              "    .dataframe tbody tr th {\n",
              "        vertical-align: top;\n",
              "    }\n",
              "\n",
              "    .dataframe thead th {\n",
              "        text-align: right;\n",
              "    }\n",
              "</style>\n",
              "<table border=\"1\" class=\"dataframe\">\n",
              "  <thead>\n",
              "    <tr style=\"text-align: right;\">\n",
              "      <th></th>\n",
              "      <th>Accuracy</th>\n",
              "      <th>Precision</th>\n",
              "      <th>Recall</th>\n",
              "      <th>F1-score</th>\n",
              "      <th>Confusion Matrix</th>\n",
              "      <th>Training Time (s)</th>\n",
              "    </tr>\n",
              "  </thead>\n",
              "  <tbody>\n",
              "    <tr>\n",
              "      <th>Decision Tree</th>\n",
              "      <td>0.603621</td>\n",
              "      <td>0.611819</td>\n",
              "      <td>0.560547</td>\n",
              "      <td>0.585062</td>\n",
              "      <td>[[28128, 15384], [19009, 24247]]</td>\n",
              "      <td>10.084164</td>\n",
              "    </tr>\n",
              "    <tr>\n",
              "      <th>Random Forest</th>\n",
              "      <td>0.605995</td>\n",
              "      <td>0.603129</td>\n",
              "      <td>0.613071</td>\n",
              "      <td>0.60806</td>\n",
              "      <td>[[26062, 17450], [16737, 26519]]</td>\n",
              "      <td>118.245242</td>\n",
              "    </tr>\n",
              "    <tr>\n",
              "      <th>SVM</th>\n",
              "      <td>0.507457</td>\n",
              "      <td>0.506287</td>\n",
              "      <td>0.483124</td>\n",
              "      <td>0.494434</td>\n",
              "      <td>[[23133, 20379], [22358, 20898]]</td>\n",
              "      <td>11256.645911</td>\n",
              "    </tr>\n",
              "    <tr>\n",
              "      <th>Logistic Regression</th>\n",
              "      <td>0.5133</td>\n",
              "      <td>0.511957</td>\n",
              "      <td>0.507791</td>\n",
              "      <td>0.509865</td>\n",
              "      <td>[[22573, 20939], [21291, 21965]]</td>\n",
              "      <td>2.309759</td>\n",
              "    </tr>\n",
              "    <tr>\n",
              "      <th>KNN</th>\n",
              "      <td>0.574544</td>\n",
              "      <td>0.57267</td>\n",
              "      <td>0.577515</td>\n",
              "      <td>0.575082</td>\n",
              "      <td>[[24871, 18641], [18275, 24981]]</td>\n",
              "      <td>0.173049</td>\n",
              "    </tr>\n",
              "    <tr>\n",
              "      <th>Naive Bayes</th>\n",
              "      <td>0.514706</td>\n",
              "      <td>0.518816</td>\n",
              "      <td>0.365891</td>\n",
              "      <td>0.429137</td>\n",
              "      <td>[[28833, 14679], [27429, 15827]]</td>\n",
              "      <td>0.230743</td>\n",
              "    </tr>\n",
              "    <tr>\n",
              "      <th>Neural Network</th>\n",
              "      <td>0.501049</td>\n",
              "      <td>0.499781</td>\n",
              "      <td>0.974871</td>\n",
              "      <td>0.660796</td>\n",
              "      <td>[[1306, 42206], [1087, 42169]]</td>\n",
              "      <td>147.150789</td>\n",
              "    </tr>\n",
              "  </tbody>\n",
              "</table>\n",
              "</div>"
            ],
            "text/plain": [
              "                     Accuracy Precision    Recall  F1-score  \\\n",
              "Decision Tree        0.603621  0.611819  0.560547  0.585062   \n",
              "Random Forest        0.605995  0.603129  0.613071   0.60806   \n",
              "SVM                  0.507457  0.506287  0.483124  0.494434   \n",
              "Logistic Regression    0.5133  0.511957  0.507791  0.509865   \n",
              "KNN                  0.574544   0.57267  0.577515  0.575082   \n",
              "Naive Bayes          0.514706  0.518816  0.365891  0.429137   \n",
              "Neural Network       0.501049  0.499781  0.974871  0.660796   \n",
              "\n",
              "                                     Confusion Matrix Training Time (s)  \n",
              "Decision Tree        [[28128, 15384], [19009, 24247]]         10.084164  \n",
              "Random Forest        [[26062, 17450], [16737, 26519]]        118.245242  \n",
              "SVM                  [[23133, 20379], [22358, 20898]]      11256.645911  \n",
              "Logistic Regression  [[22573, 20939], [21291, 21965]]          2.309759  \n",
              "KNN                  [[24871, 18641], [18275, 24981]]          0.173049  \n",
              "Naive Bayes          [[28833, 14679], [27429, 15827]]          0.230743  \n",
              "Neural Network         [[1306, 42206], [1087, 42169]]        147.150789  "
            ]
          },
          "execution_count": 20,
          "metadata": {},
          "output_type": "execute_result"
        }
      ],
      "source": [
        "results_df"
      ]
    },
    {
      "cell_type": "markdown",
      "metadata": {},
      "source": [
        "# Seleccionar los dos mejores modelos basados en la precisión"
      ]
    },
    {
      "cell_type": "code",
      "execution_count": 21,
      "metadata": {},
      "outputs": [
        {
          "name": "stdout",
          "output_type": "stream",
          "text": [
            "Los dos mejores modelos son: ['Random Forest', 'Decision Tree']\n"
          ]
        }
      ],
      "source": [
        "top_models = sorted(results, key=lambda x: results[x][\"Accuracy\"], reverse=True)[:2]\n",
        "print(\"Los dos mejores modelos son:\", top_models)"
      ]
    },
    {
      "cell_type": "markdown",
      "metadata": {},
      "source": [
        "# Ajustamos nuestros mejores modelos"
      ]
    },
    {
      "cell_type": "code",
      "execution_count": 22,
      "metadata": {},
      "outputs": [],
      "source": [
        "best_models = {}\n",
        "for name in top_models:\n",
        "    model = models[name]\n",
        "    model.fit(X_train, y_train)\n",
        "    best_models[name] = model"
      ]
    },
    {
      "cell_type": "markdown",
      "metadata": {},
      "source": [
        "# Comparar los dos mejores modelos en el conjunto de prueba"
      ]
    },
    {
      "cell_type": "code",
      "execution_count": 23,
      "metadata": {},
      "outputs": [
        {
          "name": "stdout",
          "output_type": "stream",
          "text": [
            "\n",
            "Comparación de los dos mejores modelos en el conjunto de prueba:\n",
            "Modelo: Random Forest\n",
            "Accuracy: 0.6057302231237323\n",
            "Precision: 0.603010840849048\n",
            "Recall: 0.6121000554836323\n",
            "F1-score: 0.6075214538112065\n",
            "Confusion Matrix:\n",
            "[[26081 17431]\n",
            " [16779 26477]]\n",
            "\n",
            "Modelo: Decision Tree\n",
            "Accuracy: 0.6038055504333395\n",
            "Precision: 0.6120604790872605\n",
            "Recall: 0.5605696319585722\n",
            "F1-score: 0.585184559506715\n",
            "Confusion Matrix:\n",
            "[[28143 15369]\n",
            " [19008 24248]]\n",
            "\n"
          ]
        }
      ],
      "source": [
        "print(\"\\nComparación de los dos mejores modelos en el conjunto de prueba:\")\n",
        "for name, model in best_models.items():\n",
        "    y_pred = model.predict(X_test)\n",
        "    accuracy = accuracy_score(y_test, y_pred)\n",
        "    precision = precision_score(y_test, y_pred)\n",
        "    recall = recall_score(y_test, y_pred)\n",
        "    f1 = f1_score(y_test, y_pred)\n",
        "    cm = confusion_matrix(y_test, y_pred)\n",
        "    print(f\"Modelo: {name}\")\n",
        "    print(f\"Accuracy: {accuracy}\")\n",
        "    print(f\"Precision: {precision}\")\n",
        "    print(f\"Recall: {recall}\")\n",
        "    print(f\"F1-score: {f1}\")\n",
        "    print(f\"Confusion Matrix:\\n{cm}\\n\")"
      ]
    },
    {
      "cell_type": "markdown",
      "metadata": {},
      "source": [
        "# Seleccionar el modelo individual final basado en el rendimiento en el conjunto de prueba"
      ]
    },
    {
      "cell_type": "code",
      "execution_count": 24,
      "metadata": {},
      "outputs": [
        {
          "name": "stdout",
          "output_type": "stream",
          "text": [
            "El modelo individual final es: Random Forest\n"
          ]
        }
      ],
      "source": [
        "final_model_name = max(best_models, key=lambda x: accuracy_score(y_test, best_models[x].predict(X_test)))\n",
        "print(f\"El modelo individual final es: {final_model_name}\")"
      ]
    },
    {
      "cell_type": "code",
      "execution_count": 41,
      "metadata": {},
      "outputs": [
        {
          "name": "stdout",
          "output_type": "stream",
          "text": [
            "Parámetros del modelo Random Forest:\n",
            "{'bootstrap': True, 'ccp_alpha': 0.0, 'class_weight': None, 'criterion': 'gini', 'max_depth': None, 'max_features': 'sqrt', 'max_leaf_nodes': None, 'max_samples': None, 'min_impurity_decrease': 0.0, 'min_samples_leaf': 1, 'min_samples_split': 2, 'min_weight_fraction_leaf': 0.0, 'n_estimators': 100, 'n_jobs': None, 'oob_score': False, 'random_state': None, 'verbose': 0, 'warm_start': False}\n"
          ]
        }
      ],
      "source": [
        "# Obtener el modelo Random Forest final\n",
        "final_model = best_models[final_model_name]\n",
        "\n",
        "# Imprimir los parámetros del modelo\n",
        "print(\"Parámetros del modelo Random Forest:\")\n",
        "print(final_model.get_params())"
      ]
    },
    {
      "cell_type": "code",
      "execution_count": 44,
      "metadata": {},
      "outputs": [
        {
          "name": "stdout",
          "output_type": "stream",
          "text": [
            "El modelo ha sido guardado en modelo_random_forest.pkl\n"
          ]
        }
      ],
      "source": [
        "# Guardar el modelo en un archivo pickle\n",
        "filename = 'modelo_random_forest.pkl'\n",
        "with open(filename, 'wb') as file:\n",
        "    pickle.dump(final_model, file)\n",
        "\n",
        "print(f\"El modelo ha sido guardado en {filename}\")"
      ]
    }
  ],
  "metadata": {
    "colab": {
      "provenance": []
    },
    "kernelspec": {
      "display_name": "Python 3",
      "name": "python3"
    },
    "language_info": {
      "codemirror_mode": {
        "name": "ipython",
        "version": 3
      },
      "file_extension": ".py",
      "mimetype": "text/x-python",
      "name": "python",
      "nbconvert_exporter": "python",
      "pygments_lexer": "ipython3",
      "version": "3.8.10"
    }
  },
  "nbformat": 4,
  "nbformat_minor": 0
}
